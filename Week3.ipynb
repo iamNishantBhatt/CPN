{
 "cells": [
  {
   "cell_type": "markdown",
   "metadata": {},
   "source": [
    "# Part - 1"
   ]
  },
  {
   "cell_type": "markdown",
   "metadata": {},
   "source": [
    "## Importing Libraries"
   ]
  },
  {
   "cell_type": "code",
   "execution_count": 2,
   "metadata": {},
   "outputs": [
    {
     "name": "stdout",
     "output_type": "stream",
     "text": [
      "Collecting geopy\n",
      "  Downloading https://files.pythonhosted.org/packages/80/93/d384479da0ead712bdaf697a8399c13a9a89bd856ada5a27d462fb45e47b/geopy-1.20.0-py2.py3-none-any.whl (100kB)\n",
      "Collecting geographiclib<2,>=1.49 (from geopy)\n",
      "  Downloading https://files.pythonhosted.org/packages/5b/ac/4f348828091490d77899bc74e92238e2b55c59392f21948f296e94e50e2b/geographiclib-1.49.tar.gz\n",
      "Building wheels for collected packages: geographiclib\n",
      "  Building wheel for geographiclib (setup.py): started\n",
      "  Building wheel for geographiclib (setup.py): finished with status 'done'\n",
      "  Stored in directory: C:\\Users\\Nishant\\AppData\\Local\\pip\\Cache\\wheels\\99\\45\\d1\\14954797e2a976083182c2e7da9b4e924509e59b6e5c661061\n",
      "Successfully built geographiclib\n",
      "Installing collected packages: geographiclib, geopy\n",
      "Successfully installed geographiclib-1.49 geopy-1.20.0\n",
      "Libraries imported.\n"
     ]
    }
   ],
   "source": [
    "import numpy as np\n",
    "import pandas as pd\n",
    "\n",
    "import json\n",
    "\n",
    "!pip install geopy\n",
    "from geopy.geocoders import Nominatim\n",
    "\n",
    "from bs4 import BeautifulSoup\n",
    "from urllib.request import urlopen\n",
    "import requests\n",
    "from pandas.io.json import json_normalize\n",
    "\n",
    "import matplotlib.cm as cm\n",
    "import matplotlib.colors as colors\n",
    "\n",
    "from sklearn.cluster import KMeans\n",
    "\n",
    "#!conda install -c conda-forge folium=0.5.0 --yes\n",
    "import folium\n",
    "\n",
    "print('Libraries imported.')"
   ]
  },
  {
   "cell_type": "markdown",
   "metadata": {},
   "source": [
    "## Scraping Table from wikipedia page"
   ]
  },
  {
   "cell_type": "code",
   "execution_count": 3,
   "metadata": {},
   "outputs": [],
   "source": [
    "url = 'https://en.wikipedia.org/wiki/List_of_postal_codes_of_Canada:_M'\n",
    "page = urlopen(url).read().decode('utf-8')\n",
    "soup = BeautifulSoup(page, 'html.parser')\n",
    "\n",
    "wiki_table = soup.body.table.tbody"
   ]
  },
  {
   "cell_type": "code",
   "execution_count": 5,
   "metadata": {},
   "outputs": [],
   "source": [
    "def get_cell(element):\n",
    "    cells = element.find_all('td')\n",
    "    row = []\n",
    "    \n",
    "    for cell in cells:\n",
    "        if cell.a:            \n",
    "            if (cell.a.text):\n",
    "                row.append(cell.a.text)\n",
    "                continue\n",
    "        row.append(cell.string.strip())\n",
    "        \n",
    "    return row\n",
    "\n",
    "def get_row():    \n",
    "    data = []  \n",
    "    \n",
    "    for tr in wiki_table.find_all('tr'):\n",
    "        row = get_cell(tr)\n",
    "        if len(row) != 3:\n",
    "            continue\n",
    "        data.append(row)        \n",
    "    \n",
    "    return data"
   ]
  },
  {
   "cell_type": "code",
   "execution_count": 6,
   "metadata": {},
   "outputs": [
    {
     "data": {
      "text/html": [
       "<div>\n",
       "<style scoped>\n",
       "    .dataframe tbody tr th:only-of-type {\n",
       "        vertical-align: middle;\n",
       "    }\n",
       "\n",
       "    .dataframe tbody tr th {\n",
       "        vertical-align: top;\n",
       "    }\n",
       "\n",
       "    .dataframe thead th {\n",
       "        text-align: right;\n",
       "    }\n",
       "</style>\n",
       "<table border=\"1\" class=\"dataframe\">\n",
       "  <thead>\n",
       "    <tr style=\"text-align: right;\">\n",
       "      <th></th>\n",
       "      <th>Postcode</th>\n",
       "      <th>Borough</th>\n",
       "      <th>Neighbourhood</th>\n",
       "    </tr>\n",
       "  </thead>\n",
       "  <tbody>\n",
       "    <tr>\n",
       "      <th>0</th>\n",
       "      <td>M1A</td>\n",
       "      <td>Not assigned</td>\n",
       "      <td>Not assigned</td>\n",
       "    </tr>\n",
       "    <tr>\n",
       "      <th>1</th>\n",
       "      <td>M2A</td>\n",
       "      <td>Not assigned</td>\n",
       "      <td>Not assigned</td>\n",
       "    </tr>\n",
       "    <tr>\n",
       "      <th>2</th>\n",
       "      <td>M3A</td>\n",
       "      <td>North York</td>\n",
       "      <td>Parkwoods</td>\n",
       "    </tr>\n",
       "    <tr>\n",
       "      <th>3</th>\n",
       "      <td>M4A</td>\n",
       "      <td>North York</td>\n",
       "      <td>Victoria Village</td>\n",
       "    </tr>\n",
       "    <tr>\n",
       "      <th>4</th>\n",
       "      <td>M5A</td>\n",
       "      <td>Downtown Toronto</td>\n",
       "      <td>Harbourfront</td>\n",
       "    </tr>\n",
       "  </tbody>\n",
       "</table>\n",
       "</div>"
      ],
      "text/plain": [
       "  Postcode           Borough     Neighbourhood\n",
       "0      M1A      Not assigned      Not assigned\n",
       "1      M2A      Not assigned      Not assigned\n",
       "2      M3A        North York         Parkwoods\n",
       "3      M4A        North York  Victoria Village\n",
       "4      M5A  Downtown Toronto      Harbourfront"
      ]
     },
     "execution_count": 6,
     "metadata": {},
     "output_type": "execute_result"
    }
   ],
   "source": [
    "data = get_row()\n",
    "columns = ['Postcode', 'Borough', 'Neighbourhood']\n",
    "df = pd.DataFrame(data, columns=columns)\n",
    "df.head()"
   ]
  },
  {
   "cell_type": "code",
   "execution_count": 7,
   "metadata": {},
   "outputs": [
    {
     "data": {
      "text/plain": [
       "(288, 3)"
      ]
     },
     "execution_count": 7,
     "metadata": {},
     "output_type": "execute_result"
    }
   ],
   "source": [
    "df.shape"
   ]
  },
  {
   "cell_type": "markdown",
   "metadata": {},
   "source": [
    "## Cleaning Data"
   ]
  },
  {
   "cell_type": "code",
   "execution_count": 8,
   "metadata": {},
   "outputs": [
    {
     "data": {
      "text/html": [
       "<div>\n",
       "<style scoped>\n",
       "    .dataframe tbody tr th:only-of-type {\n",
       "        vertical-align: middle;\n",
       "    }\n",
       "\n",
       "    .dataframe tbody tr th {\n",
       "        vertical-align: top;\n",
       "    }\n",
       "\n",
       "    .dataframe thead th {\n",
       "        text-align: right;\n",
       "    }\n",
       "</style>\n",
       "<table border=\"1\" class=\"dataframe\">\n",
       "  <thead>\n",
       "    <tr style=\"text-align: right;\">\n",
       "      <th></th>\n",
       "      <th>Postcode</th>\n",
       "      <th>Borough</th>\n",
       "      <th>Neighbourhood</th>\n",
       "    </tr>\n",
       "  </thead>\n",
       "  <tbody>\n",
       "    <tr>\n",
       "      <th>0</th>\n",
       "      <td>M1B</td>\n",
       "      <td>Scarborough</td>\n",
       "      <td>Rouge</td>\n",
       "    </tr>\n",
       "    <tr>\n",
       "      <th>1</th>\n",
       "      <td>M1B</td>\n",
       "      <td>Scarborough</td>\n",
       "      <td>Malvern</td>\n",
       "    </tr>\n",
       "    <tr>\n",
       "      <th>2</th>\n",
       "      <td>M1C</td>\n",
       "      <td>Scarborough</td>\n",
       "      <td>Highland Creek</td>\n",
       "    </tr>\n",
       "    <tr>\n",
       "      <th>3</th>\n",
       "      <td>M1C</td>\n",
       "      <td>Scarborough</td>\n",
       "      <td>Rouge Hill</td>\n",
       "    </tr>\n",
       "    <tr>\n",
       "      <th>4</th>\n",
       "      <td>M1C</td>\n",
       "      <td>Scarborough</td>\n",
       "      <td>Port Union</td>\n",
       "    </tr>\n",
       "  </tbody>\n",
       "</table>\n",
       "</div>"
      ],
      "text/plain": [
       "  Postcode      Borough   Neighbourhood\n",
       "0      M1B  Scarborough           Rouge\n",
       "1      M1B  Scarborough         Malvern\n",
       "2      M1C  Scarborough  Highland Creek\n",
       "3      M1C  Scarborough      Rouge Hill\n",
       "4      M1C  Scarborough      Port Union"
      ]
     },
     "execution_count": 8,
     "metadata": {},
     "output_type": "execute_result"
    }
   ],
   "source": [
    "df1 = df[df.Borough != 'Not assigned']\n",
    "df1 = df1.sort_values(by=['Postcode','Borough'])\n",
    "\n",
    "df1.reset_index(inplace=True)\n",
    "df1.drop('index',axis=1,inplace=True)\n",
    "\n",
    "df1.head()"
   ]
  },
  {
   "cell_type": "markdown",
   "metadata": {},
   "source": [
    "## Joining Neighbourhoods with same Boroughs"
   ]
  },
  {
   "cell_type": "code",
   "execution_count": 9,
   "metadata": {},
   "outputs": [],
   "source": [
    "df_postcodes = df1['Postcode']\n",
    "df_postcodes.drop_duplicates(inplace=True)\n",
    "df2 = pd.DataFrame(df_postcodes)\n",
    "df2['Borough'] = '';\n",
    "df2['Neighbourhood'] = '';\n",
    "\n",
    "\n",
    "df2.reset_index(inplace=True)\n",
    "df2.drop('index', axis=1, inplace=True)\n",
    "df1.reset_index(inplace=True)\n",
    "df1.drop('index', axis=1, inplace=True)\n",
    "\n",
    "for i in df2.index:\n",
    "    for j in df1.index:\n",
    "        if df2.iloc[i, 0] == df1.iloc[j, 0]:\n",
    "            df2.iloc[i, 1] = df1.iloc[j, 1]\n",
    "            df2.iloc[i, 2] = df2.iloc[i, 2] + ',' + df1.iloc[j, 2]\n",
    "            \n",
    "for i in df2.index:\n",
    "    s = df2.iloc[i, 2]\n",
    "    if s[0] == ',':\n",
    "        s =s [1:]\n",
    "    df2.iloc[i,2 ] = s"
   ]
  },
  {
   "cell_type": "code",
   "execution_count": 10,
   "metadata": {},
   "outputs": [
    {
     "data": {
      "text/html": [
       "<div>\n",
       "<style scoped>\n",
       "    .dataframe tbody tr th:only-of-type {\n",
       "        vertical-align: middle;\n",
       "    }\n",
       "\n",
       "    .dataframe tbody tr th {\n",
       "        vertical-align: top;\n",
       "    }\n",
       "\n",
       "    .dataframe thead th {\n",
       "        text-align: right;\n",
       "    }\n",
       "</style>\n",
       "<table border=\"1\" class=\"dataframe\">\n",
       "  <thead>\n",
       "    <tr style=\"text-align: right;\">\n",
       "      <th></th>\n",
       "      <th>Postcode</th>\n",
       "      <th>Borough</th>\n",
       "      <th>Neighbourhood</th>\n",
       "    </tr>\n",
       "  </thead>\n",
       "  <tbody>\n",
       "    <tr>\n",
       "      <th>0</th>\n",
       "      <td>M1B</td>\n",
       "      <td>Scarborough</td>\n",
       "      <td>Rouge,Malvern</td>\n",
       "    </tr>\n",
       "    <tr>\n",
       "      <th>1</th>\n",
       "      <td>M1C</td>\n",
       "      <td>Scarborough</td>\n",
       "      <td>Highland Creek,Rouge Hill,Port Union</td>\n",
       "    </tr>\n",
       "    <tr>\n",
       "      <th>2</th>\n",
       "      <td>M1E</td>\n",
       "      <td>Scarborough</td>\n",
       "      <td>Guildwood,Morningside,West Hill</td>\n",
       "    </tr>\n",
       "    <tr>\n",
       "      <th>3</th>\n",
       "      <td>M1G</td>\n",
       "      <td>Scarborough</td>\n",
       "      <td>Woburn</td>\n",
       "    </tr>\n",
       "    <tr>\n",
       "      <th>4</th>\n",
       "      <td>M1H</td>\n",
       "      <td>Scarborough</td>\n",
       "      <td>Cedarbrae</td>\n",
       "    </tr>\n",
       "    <tr>\n",
       "      <th>5</th>\n",
       "      <td>M1J</td>\n",
       "      <td>Scarborough</td>\n",
       "      <td>Scarborough Village</td>\n",
       "    </tr>\n",
       "    <tr>\n",
       "      <th>6</th>\n",
       "      <td>M1K</td>\n",
       "      <td>Scarborough</td>\n",
       "      <td>East Birchmount Park,Ionview,Kennedy Park</td>\n",
       "    </tr>\n",
       "    <tr>\n",
       "      <th>7</th>\n",
       "      <td>M1L</td>\n",
       "      <td>Scarborough</td>\n",
       "      <td>Clairlea,Golden Mile,Oakridge</td>\n",
       "    </tr>\n",
       "    <tr>\n",
       "      <th>8</th>\n",
       "      <td>M1M</td>\n",
       "      <td>Scarborough</td>\n",
       "      <td>Cliffcrest,Cliffside,Scarborough Village West</td>\n",
       "    </tr>\n",
       "    <tr>\n",
       "      <th>9</th>\n",
       "      <td>M1N</td>\n",
       "      <td>Scarborough</td>\n",
       "      <td>Birch Cliff,Cliffside West</td>\n",
       "    </tr>\n",
       "  </tbody>\n",
       "</table>\n",
       "</div>"
      ],
      "text/plain": [
       "  Postcode      Borough                                  Neighbourhood\n",
       "0      M1B  Scarborough                                  Rouge,Malvern\n",
       "1      M1C  Scarborough           Highland Creek,Rouge Hill,Port Union\n",
       "2      M1E  Scarborough                Guildwood,Morningside,West Hill\n",
       "3      M1G  Scarborough                                         Woburn\n",
       "4      M1H  Scarborough                                      Cedarbrae\n",
       "5      M1J  Scarborough                            Scarborough Village\n",
       "6      M1K  Scarborough      East Birchmount Park,Ionview,Kennedy Park\n",
       "7      M1L  Scarborough                  Clairlea,Golden Mile,Oakridge\n",
       "8      M1M  Scarborough  Cliffcrest,Cliffside,Scarborough Village West\n",
       "9      M1N  Scarborough                     Birch Cliff,Cliffside West"
      ]
     },
     "execution_count": 10,
     "metadata": {},
     "output_type": "execute_result"
    }
   ],
   "source": [
    "df2.head(10)"
   ]
  },
  {
   "cell_type": "code",
   "execution_count": 16,
   "metadata": {},
   "outputs": [
    {
     "data": {
      "text/html": [
       "<div>\n",
       "<style scoped>\n",
       "    .dataframe tbody tr th:only-of-type {\n",
       "        vertical-align: middle;\n",
       "    }\n",
       "\n",
       "    .dataframe tbody tr th {\n",
       "        vertical-align: top;\n",
       "    }\n",
       "\n",
       "    .dataframe thead th {\n",
       "        text-align: right;\n",
       "    }\n",
       "</style>\n",
       "<table border=\"1\" class=\"dataframe\">\n",
       "  <thead>\n",
       "    <tr style=\"text-align: right;\">\n",
       "      <th></th>\n",
       "      <th>Postcode</th>\n",
       "      <th>Borough</th>\n",
       "      <th>Neighbourhood</th>\n",
       "    </tr>\n",
       "  </thead>\n",
       "  <tbody>\n",
       "    <tr>\n",
       "      <th>53</th>\n",
       "      <td>M5A</td>\n",
       "      <td>Downtown Toronto</td>\n",
       "      <td>Harbourfront,Regent Park</td>\n",
       "    </tr>\n",
       "  </tbody>\n",
       "</table>\n",
       "</div>"
      ],
      "text/plain": [
       "   Postcode           Borough             Neighbourhood\n",
       "53      M5A  Downtown Toronto  Harbourfront,Regent Park"
      ]
     },
     "execution_count": 16,
     "metadata": {},
     "output_type": "execute_result"
    }
   ],
   "source": [
    "df2.loc[df2['Postcode'] == 'M5A']"
   ]
  },
  {
   "cell_type": "code",
   "execution_count": 17,
   "metadata": {},
   "outputs": [
    {
     "data": {
      "text/html": [
       "<div>\n",
       "<style scoped>\n",
       "    .dataframe tbody tr th:only-of-type {\n",
       "        vertical-align: middle;\n",
       "    }\n",
       "\n",
       "    .dataframe tbody tr th {\n",
       "        vertical-align: top;\n",
       "    }\n",
       "\n",
       "    .dataframe thead th {\n",
       "        text-align: right;\n",
       "    }\n",
       "</style>\n",
       "<table border=\"1\" class=\"dataframe\">\n",
       "  <thead>\n",
       "    <tr style=\"text-align: right;\">\n",
       "      <th></th>\n",
       "      <th>Postcode</th>\n",
       "      <th>Borough</th>\n",
       "      <th>Neighbourhood</th>\n",
       "    </tr>\n",
       "  </thead>\n",
       "  <tbody>\n",
       "    <tr>\n",
       "      <th>85</th>\n",
       "      <td>M7A</td>\n",
       "      <td>Queen's Park</td>\n",
       "      <td>Not assigned</td>\n",
       "    </tr>\n",
       "  </tbody>\n",
       "</table>\n",
       "</div>"
      ],
      "text/plain": [
       "   Postcode       Borough Neighbourhood\n",
       "85      M7A  Queen's Park  Not assigned"
      ]
     },
     "execution_count": 17,
     "metadata": {},
     "output_type": "execute_result"
    }
   ],
   "source": [
    "df2.loc[df2['Postcode'] == 'M7A']"
   ]
  },
  {
   "cell_type": "code",
   "execution_count": 35,
   "metadata": {},
   "outputs": [],
   "source": [
    "df_backup = df2"
   ]
  },
  {
   "cell_type": "code",
   "execution_count": 19,
   "metadata": {},
   "outputs": [],
   "source": [
    "for i in df2.index:\n",
    "    if df2[\"Neighbourhood\"][i] == \"Not assigned\":\n",
    "        df2[\"Neighbourhood\"][i] = df2[\"Borough\"][i]"
   ]
  },
  {
   "cell_type": "code",
   "execution_count": 20,
   "metadata": {},
   "outputs": [
    {
     "data": {
      "text/html": [
       "<div>\n",
       "<style scoped>\n",
       "    .dataframe tbody tr th:only-of-type {\n",
       "        vertical-align: middle;\n",
       "    }\n",
       "\n",
       "    .dataframe tbody tr th {\n",
       "        vertical-align: top;\n",
       "    }\n",
       "\n",
       "    .dataframe thead th {\n",
       "        text-align: right;\n",
       "    }\n",
       "</style>\n",
       "<table border=\"1\" class=\"dataframe\">\n",
       "  <thead>\n",
       "    <tr style=\"text-align: right;\">\n",
       "      <th></th>\n",
       "      <th>Postcode</th>\n",
       "      <th>Borough</th>\n",
       "      <th>Neighbourhood</th>\n",
       "    </tr>\n",
       "  </thead>\n",
       "  <tbody>\n",
       "    <tr>\n",
       "      <th>85</th>\n",
       "      <td>M7A</td>\n",
       "      <td>Queen's Park</td>\n",
       "      <td>Queen's Park</td>\n",
       "    </tr>\n",
       "  </tbody>\n",
       "</table>\n",
       "</div>"
      ],
      "text/plain": [
       "   Postcode       Borough Neighbourhood\n",
       "85      M7A  Queen's Park  Queen's Park"
      ]
     },
     "execution_count": 20,
     "metadata": {},
     "output_type": "execute_result"
    }
   ],
   "source": [
    "df2.loc[df2['Postcode'] == 'M7A']"
   ]
  },
  {
   "cell_type": "code",
   "execution_count": 21,
   "metadata": {},
   "outputs": [
    {
     "data": {
      "text/plain": [
       "(103, 3)"
      ]
     },
     "execution_count": 21,
     "metadata": {},
     "output_type": "execute_result"
    }
   ],
   "source": [
    "df2.shape"
   ]
  },
  {
   "cell_type": "code",
   "execution_count": 22,
   "metadata": {},
   "outputs": [
    {
     "data": {
      "text/html": [
       "<div>\n",
       "<style scoped>\n",
       "    .dataframe tbody tr th:only-of-type {\n",
       "        vertical-align: middle;\n",
       "    }\n",
       "\n",
       "    .dataframe tbody tr th {\n",
       "        vertical-align: top;\n",
       "    }\n",
       "\n",
       "    .dataframe thead th {\n",
       "        text-align: right;\n",
       "    }\n",
       "</style>\n",
       "<table border=\"1\" class=\"dataframe\">\n",
       "  <thead>\n",
       "    <tr style=\"text-align: right;\">\n",
       "      <th></th>\n",
       "      <th>Postcode</th>\n",
       "      <th>Borough</th>\n",
       "      <th>Neighbourhood</th>\n",
       "    </tr>\n",
       "  </thead>\n",
       "  <tbody>\n",
       "    <tr>\n",
       "      <th>0</th>\n",
       "      <td>M1B</td>\n",
       "      <td>Scarborough</td>\n",
       "      <td>Rouge,Malvern</td>\n",
       "    </tr>\n",
       "    <tr>\n",
       "      <th>1</th>\n",
       "      <td>M1C</td>\n",
       "      <td>Scarborough</td>\n",
       "      <td>Highland Creek,Rouge Hill,Port Union</td>\n",
       "    </tr>\n",
       "    <tr>\n",
       "      <th>2</th>\n",
       "      <td>M1E</td>\n",
       "      <td>Scarborough</td>\n",
       "      <td>Guildwood,Morningside,West Hill</td>\n",
       "    </tr>\n",
       "    <tr>\n",
       "      <th>3</th>\n",
       "      <td>M1G</td>\n",
       "      <td>Scarborough</td>\n",
       "      <td>Woburn</td>\n",
       "    </tr>\n",
       "    <tr>\n",
       "      <th>4</th>\n",
       "      <td>M1H</td>\n",
       "      <td>Scarborough</td>\n",
       "      <td>Cedarbrae</td>\n",
       "    </tr>\n",
       "    <tr>\n",
       "      <th>5</th>\n",
       "      <td>M1J</td>\n",
       "      <td>Scarborough</td>\n",
       "      <td>Scarborough Village</td>\n",
       "    </tr>\n",
       "    <tr>\n",
       "      <th>6</th>\n",
       "      <td>M1K</td>\n",
       "      <td>Scarborough</td>\n",
       "      <td>East Birchmount Park,Ionview,Kennedy Park</td>\n",
       "    </tr>\n",
       "    <tr>\n",
       "      <th>7</th>\n",
       "      <td>M1L</td>\n",
       "      <td>Scarborough</td>\n",
       "      <td>Clairlea,Golden Mile,Oakridge</td>\n",
       "    </tr>\n",
       "    <tr>\n",
       "      <th>8</th>\n",
       "      <td>M1M</td>\n",
       "      <td>Scarborough</td>\n",
       "      <td>Cliffcrest,Cliffside,Scarborough Village West</td>\n",
       "    </tr>\n",
       "    <tr>\n",
       "      <th>9</th>\n",
       "      <td>M1N</td>\n",
       "      <td>Scarborough</td>\n",
       "      <td>Birch Cliff,Cliffside West</td>\n",
       "    </tr>\n",
       "  </tbody>\n",
       "</table>\n",
       "</div>"
      ],
      "text/plain": [
       "  Postcode      Borough                                  Neighbourhood\n",
       "0      M1B  Scarborough                                  Rouge,Malvern\n",
       "1      M1C  Scarborough           Highland Creek,Rouge Hill,Port Union\n",
       "2      M1E  Scarborough                Guildwood,Morningside,West Hill\n",
       "3      M1G  Scarborough                                         Woburn\n",
       "4      M1H  Scarborough                                      Cedarbrae\n",
       "5      M1J  Scarborough                            Scarborough Village\n",
       "6      M1K  Scarborough      East Birchmount Park,Ionview,Kennedy Park\n",
       "7      M1L  Scarborough                  Clairlea,Golden Mile,Oakridge\n",
       "8      M1M  Scarborough  Cliffcrest,Cliffside,Scarborough Village West\n",
       "9      M1N  Scarborough                     Birch Cliff,Cliffside West"
      ]
     },
     "execution_count": 22,
     "metadata": {},
     "output_type": "execute_result"
    }
   ],
   "source": [
    "df2.head(10)"
   ]
  },
  {
   "cell_type": "markdown",
   "metadata": {},
   "source": [
    "# Part - 2"
   ]
  },
  {
   "cell_type": "markdown",
   "metadata": {},
   "source": [
    "## Reading CSV"
   ]
  },
  {
   "cell_type": "code",
   "execution_count": 24,
   "metadata": {},
   "outputs": [],
   "source": [
    "df_geo = pd.read_csv(\"C:/Users/Nishant/Downloads/Geospatial_Coordinates.csv\")"
   ]
  },
  {
   "cell_type": "code",
   "execution_count": 25,
   "metadata": {},
   "outputs": [
    {
     "data": {
      "text/html": [
       "<div>\n",
       "<style scoped>\n",
       "    .dataframe tbody tr th:only-of-type {\n",
       "        vertical-align: middle;\n",
       "    }\n",
       "\n",
       "    .dataframe tbody tr th {\n",
       "        vertical-align: top;\n",
       "    }\n",
       "\n",
       "    .dataframe thead th {\n",
       "        text-align: right;\n",
       "    }\n",
       "</style>\n",
       "<table border=\"1\" class=\"dataframe\">\n",
       "  <thead>\n",
       "    <tr style=\"text-align: right;\">\n",
       "      <th></th>\n",
       "      <th>Postal Code</th>\n",
       "      <th>Latitude</th>\n",
       "      <th>Longitude</th>\n",
       "    </tr>\n",
       "  </thead>\n",
       "  <tbody>\n",
       "    <tr>\n",
       "      <th>0</th>\n",
       "      <td>M1B</td>\n",
       "      <td>43.806686</td>\n",
       "      <td>-79.194353</td>\n",
       "    </tr>\n",
       "    <tr>\n",
       "      <th>1</th>\n",
       "      <td>M1C</td>\n",
       "      <td>43.784535</td>\n",
       "      <td>-79.160497</td>\n",
       "    </tr>\n",
       "    <tr>\n",
       "      <th>2</th>\n",
       "      <td>M1E</td>\n",
       "      <td>43.763573</td>\n",
       "      <td>-79.188711</td>\n",
       "    </tr>\n",
       "    <tr>\n",
       "      <th>3</th>\n",
       "      <td>M1G</td>\n",
       "      <td>43.770992</td>\n",
       "      <td>-79.216917</td>\n",
       "    </tr>\n",
       "    <tr>\n",
       "      <th>4</th>\n",
       "      <td>M1H</td>\n",
       "      <td>43.773136</td>\n",
       "      <td>-79.239476</td>\n",
       "    </tr>\n",
       "  </tbody>\n",
       "</table>\n",
       "</div>"
      ],
      "text/plain": [
       "  Postal Code   Latitude  Longitude\n",
       "0         M1B  43.806686 -79.194353\n",
       "1         M1C  43.784535 -79.160497\n",
       "2         M1E  43.763573 -79.188711\n",
       "3         M1G  43.770992 -79.216917\n",
       "4         M1H  43.773136 -79.239476"
      ]
     },
     "execution_count": 25,
     "metadata": {},
     "output_type": "execute_result"
    }
   ],
   "source": [
    "df_geo.head()"
   ]
  },
  {
   "cell_type": "code",
   "execution_count": 26,
   "metadata": {},
   "outputs": [
    {
     "data": {
      "text/plain": [
       "(103, 3)"
      ]
     },
     "execution_count": 26,
     "metadata": {},
     "output_type": "execute_result"
    }
   ],
   "source": [
    "df_geo.shape"
   ]
  },
  {
   "cell_type": "code",
   "execution_count": 27,
   "metadata": {},
   "outputs": [
    {
     "data": {
      "text/html": [
       "<div>\n",
       "<style scoped>\n",
       "    .dataframe tbody tr th:only-of-type {\n",
       "        vertical-align: middle;\n",
       "    }\n",
       "\n",
       "    .dataframe tbody tr th {\n",
       "        vertical-align: top;\n",
       "    }\n",
       "\n",
       "    .dataframe thead th {\n",
       "        text-align: right;\n",
       "    }\n",
       "</style>\n",
       "<table border=\"1\" class=\"dataframe\">\n",
       "  <thead>\n",
       "    <tr style=\"text-align: right;\">\n",
       "      <th></th>\n",
       "      <th>Postcode</th>\n",
       "      <th>Borough</th>\n",
       "      <th>Neighbourhood</th>\n",
       "    </tr>\n",
       "  </thead>\n",
       "  <tbody>\n",
       "    <tr>\n",
       "      <th>0</th>\n",
       "      <td>M1B</td>\n",
       "      <td>Scarborough</td>\n",
       "      <td>Rouge,Malvern</td>\n",
       "    </tr>\n",
       "    <tr>\n",
       "      <th>1</th>\n",
       "      <td>M1C</td>\n",
       "      <td>Scarborough</td>\n",
       "      <td>Highland Creek,Rouge Hill,Port Union</td>\n",
       "    </tr>\n",
       "    <tr>\n",
       "      <th>2</th>\n",
       "      <td>M1E</td>\n",
       "      <td>Scarborough</td>\n",
       "      <td>Guildwood,Morningside,West Hill</td>\n",
       "    </tr>\n",
       "    <tr>\n",
       "      <th>3</th>\n",
       "      <td>M1G</td>\n",
       "      <td>Scarborough</td>\n",
       "      <td>Woburn</td>\n",
       "    </tr>\n",
       "    <tr>\n",
       "      <th>4</th>\n",
       "      <td>M1H</td>\n",
       "      <td>Scarborough</td>\n",
       "      <td>Cedarbrae</td>\n",
       "    </tr>\n",
       "  </tbody>\n",
       "</table>\n",
       "</div>"
      ],
      "text/plain": [
       "  Postcode      Borough                         Neighbourhood\n",
       "0      M1B  Scarborough                         Rouge,Malvern\n",
       "1      M1C  Scarborough  Highland Creek,Rouge Hill,Port Union\n",
       "2      M1E  Scarborough       Guildwood,Morningside,West Hill\n",
       "3      M1G  Scarborough                                Woburn\n",
       "4      M1H  Scarborough                             Cedarbrae"
      ]
     },
     "execution_count": 27,
     "metadata": {},
     "output_type": "execute_result"
    }
   ],
   "source": [
    "df2.head()"
   ]
  },
  {
   "cell_type": "code",
   "execution_count": 28,
   "metadata": {},
   "outputs": [
    {
     "data": {
      "text/plain": [
       "(103, 3)"
      ]
     },
     "execution_count": 28,
     "metadata": {},
     "output_type": "execute_result"
    }
   ],
   "source": [
    "df2.shape"
   ]
  },
  {
   "cell_type": "markdown",
   "metadata": {},
   "source": [
    "## Adding Latitude and Longitude"
   ]
  },
  {
   "cell_type": "code",
   "execution_count": 32,
   "metadata": {},
   "outputs": [],
   "source": [
    "df2=df2.merge(df_geo['Latitude'].rename('Latitude'), left_index=True, right_index=True)"
   ]
  },
  {
   "cell_type": "code",
   "execution_count": 33,
   "metadata": {},
   "outputs": [],
   "source": [
    "df2=df2.merge(df_geo['Longitude'].rename('Longitude'), left_index=True, right_index=True)"
   ]
  },
  {
   "cell_type": "code",
   "execution_count": 34,
   "metadata": {},
   "outputs": [
    {
     "data": {
      "text/html": [
       "<div>\n",
       "<style scoped>\n",
       "    .dataframe tbody tr th:only-of-type {\n",
       "        vertical-align: middle;\n",
       "    }\n",
       "\n",
       "    .dataframe tbody tr th {\n",
       "        vertical-align: top;\n",
       "    }\n",
       "\n",
       "    .dataframe thead th {\n",
       "        text-align: right;\n",
       "    }\n",
       "</style>\n",
       "<table border=\"1\" class=\"dataframe\">\n",
       "  <thead>\n",
       "    <tr style=\"text-align: right;\">\n",
       "      <th></th>\n",
       "      <th>Postcode</th>\n",
       "      <th>Borough</th>\n",
       "      <th>Neighbourhood</th>\n",
       "      <th>Latitude</th>\n",
       "      <th>Longitude</th>\n",
       "    </tr>\n",
       "  </thead>\n",
       "  <tbody>\n",
       "    <tr>\n",
       "      <th>0</th>\n",
       "      <td>M1B</td>\n",
       "      <td>Scarborough</td>\n",
       "      <td>Rouge,Malvern</td>\n",
       "      <td>43.806686</td>\n",
       "      <td>-79.194353</td>\n",
       "    </tr>\n",
       "    <tr>\n",
       "      <th>1</th>\n",
       "      <td>M1C</td>\n",
       "      <td>Scarborough</td>\n",
       "      <td>Highland Creek,Rouge Hill,Port Union</td>\n",
       "      <td>43.784535</td>\n",
       "      <td>-79.160497</td>\n",
       "    </tr>\n",
       "    <tr>\n",
       "      <th>2</th>\n",
       "      <td>M1E</td>\n",
       "      <td>Scarborough</td>\n",
       "      <td>Guildwood,Morningside,West Hill</td>\n",
       "      <td>43.763573</td>\n",
       "      <td>-79.188711</td>\n",
       "    </tr>\n",
       "    <tr>\n",
       "      <th>3</th>\n",
       "      <td>M1G</td>\n",
       "      <td>Scarborough</td>\n",
       "      <td>Woburn</td>\n",
       "      <td>43.770992</td>\n",
       "      <td>-79.216917</td>\n",
       "    </tr>\n",
       "    <tr>\n",
       "      <th>4</th>\n",
       "      <td>M1H</td>\n",
       "      <td>Scarborough</td>\n",
       "      <td>Cedarbrae</td>\n",
       "      <td>43.773136</td>\n",
       "      <td>-79.239476</td>\n",
       "    </tr>\n",
       "    <tr>\n",
       "      <th>5</th>\n",
       "      <td>M1J</td>\n",
       "      <td>Scarborough</td>\n",
       "      <td>Scarborough Village</td>\n",
       "      <td>43.744734</td>\n",
       "      <td>-79.239476</td>\n",
       "    </tr>\n",
       "    <tr>\n",
       "      <th>6</th>\n",
       "      <td>M1K</td>\n",
       "      <td>Scarborough</td>\n",
       "      <td>East Birchmount Park,Ionview,Kennedy Park</td>\n",
       "      <td>43.727929</td>\n",
       "      <td>-79.262029</td>\n",
       "    </tr>\n",
       "    <tr>\n",
       "      <th>7</th>\n",
       "      <td>M1L</td>\n",
       "      <td>Scarborough</td>\n",
       "      <td>Clairlea,Golden Mile,Oakridge</td>\n",
       "      <td>43.711112</td>\n",
       "      <td>-79.284577</td>\n",
       "    </tr>\n",
       "    <tr>\n",
       "      <th>8</th>\n",
       "      <td>M1M</td>\n",
       "      <td>Scarborough</td>\n",
       "      <td>Cliffcrest,Cliffside,Scarborough Village West</td>\n",
       "      <td>43.716316</td>\n",
       "      <td>-79.239476</td>\n",
       "    </tr>\n",
       "    <tr>\n",
       "      <th>9</th>\n",
       "      <td>M1N</td>\n",
       "      <td>Scarborough</td>\n",
       "      <td>Birch Cliff,Cliffside West</td>\n",
       "      <td>43.692657</td>\n",
       "      <td>-79.264848</td>\n",
       "    </tr>\n",
       "  </tbody>\n",
       "</table>\n",
       "</div>"
      ],
      "text/plain": [
       "  Postcode      Borough                                  Neighbourhood  \\\n",
       "0      M1B  Scarborough                                  Rouge,Malvern   \n",
       "1      M1C  Scarborough           Highland Creek,Rouge Hill,Port Union   \n",
       "2      M1E  Scarborough                Guildwood,Morningside,West Hill   \n",
       "3      M1G  Scarborough                                         Woburn   \n",
       "4      M1H  Scarborough                                      Cedarbrae   \n",
       "5      M1J  Scarborough                            Scarborough Village   \n",
       "6      M1K  Scarborough      East Birchmount Park,Ionview,Kennedy Park   \n",
       "7      M1L  Scarborough                  Clairlea,Golden Mile,Oakridge   \n",
       "8      M1M  Scarborough  Cliffcrest,Cliffside,Scarborough Village West   \n",
       "9      M1N  Scarborough                     Birch Cliff,Cliffside West   \n",
       "\n",
       "    Latitude  Longitude  \n",
       "0  43.806686 -79.194353  \n",
       "1  43.784535 -79.160497  \n",
       "2  43.763573 -79.188711  \n",
       "3  43.770992 -79.216917  \n",
       "4  43.773136 -79.239476  \n",
       "5  43.744734 -79.239476  \n",
       "6  43.727929 -79.262029  \n",
       "7  43.711112 -79.284577  \n",
       "8  43.716316 -79.239476  \n",
       "9  43.692657 -79.264848  "
      ]
     },
     "execution_count": 34,
     "metadata": {},
     "output_type": "execute_result"
    }
   ],
   "source": [
    "df2.head(10)"
   ]
  },
  {
   "cell_type": "markdown",
   "metadata": {},
   "source": [
    "# Part - 3"
   ]
  },
  {
   "cell_type": "markdown",
   "metadata": {},
   "source": [
    "## preparing dataframe for map"
   ]
  },
  {
   "cell_type": "code",
   "execution_count": 36,
   "metadata": {},
   "outputs": [],
   "source": [
    "df_neighbourhood = df2[['Borough', 'Neighbourhood', 'Latitude', \"Longitude\"]].copy()"
   ]
  },
  {
   "cell_type": "code",
   "execution_count": 37,
   "metadata": {},
   "outputs": [
    {
     "data": {
      "text/html": [
       "<div>\n",
       "<style scoped>\n",
       "    .dataframe tbody tr th:only-of-type {\n",
       "        vertical-align: middle;\n",
       "    }\n",
       "\n",
       "    .dataframe tbody tr th {\n",
       "        vertical-align: top;\n",
       "    }\n",
       "\n",
       "    .dataframe thead th {\n",
       "        text-align: right;\n",
       "    }\n",
       "</style>\n",
       "<table border=\"1\" class=\"dataframe\">\n",
       "  <thead>\n",
       "    <tr style=\"text-align: right;\">\n",
       "      <th></th>\n",
       "      <th>Borough</th>\n",
       "      <th>Neighbourhood</th>\n",
       "      <th>Latitude</th>\n",
       "      <th>Longitude</th>\n",
       "    </tr>\n",
       "  </thead>\n",
       "  <tbody>\n",
       "    <tr>\n",
       "      <th>0</th>\n",
       "      <td>Scarborough</td>\n",
       "      <td>Rouge,Malvern</td>\n",
       "      <td>43.806686</td>\n",
       "      <td>-79.194353</td>\n",
       "    </tr>\n",
       "    <tr>\n",
       "      <th>1</th>\n",
       "      <td>Scarborough</td>\n",
       "      <td>Highland Creek,Rouge Hill,Port Union</td>\n",
       "      <td>43.784535</td>\n",
       "      <td>-79.160497</td>\n",
       "    </tr>\n",
       "    <tr>\n",
       "      <th>2</th>\n",
       "      <td>Scarborough</td>\n",
       "      <td>Guildwood,Morningside,West Hill</td>\n",
       "      <td>43.763573</td>\n",
       "      <td>-79.188711</td>\n",
       "    </tr>\n",
       "    <tr>\n",
       "      <th>3</th>\n",
       "      <td>Scarborough</td>\n",
       "      <td>Woburn</td>\n",
       "      <td>43.770992</td>\n",
       "      <td>-79.216917</td>\n",
       "    </tr>\n",
       "    <tr>\n",
       "      <th>4</th>\n",
       "      <td>Scarborough</td>\n",
       "      <td>Cedarbrae</td>\n",
       "      <td>43.773136</td>\n",
       "      <td>-79.239476</td>\n",
       "    </tr>\n",
       "    <tr>\n",
       "      <th>5</th>\n",
       "      <td>Scarborough</td>\n",
       "      <td>Scarborough Village</td>\n",
       "      <td>43.744734</td>\n",
       "      <td>-79.239476</td>\n",
       "    </tr>\n",
       "    <tr>\n",
       "      <th>6</th>\n",
       "      <td>Scarborough</td>\n",
       "      <td>East Birchmount Park,Ionview,Kennedy Park</td>\n",
       "      <td>43.727929</td>\n",
       "      <td>-79.262029</td>\n",
       "    </tr>\n",
       "    <tr>\n",
       "      <th>7</th>\n",
       "      <td>Scarborough</td>\n",
       "      <td>Clairlea,Golden Mile,Oakridge</td>\n",
       "      <td>43.711112</td>\n",
       "      <td>-79.284577</td>\n",
       "    </tr>\n",
       "    <tr>\n",
       "      <th>8</th>\n",
       "      <td>Scarborough</td>\n",
       "      <td>Cliffcrest,Cliffside,Scarborough Village West</td>\n",
       "      <td>43.716316</td>\n",
       "      <td>-79.239476</td>\n",
       "    </tr>\n",
       "    <tr>\n",
       "      <th>9</th>\n",
       "      <td>Scarborough</td>\n",
       "      <td>Birch Cliff,Cliffside West</td>\n",
       "      <td>43.692657</td>\n",
       "      <td>-79.264848</td>\n",
       "    </tr>\n",
       "  </tbody>\n",
       "</table>\n",
       "</div>"
      ],
      "text/plain": [
       "       Borough                                  Neighbourhood   Latitude  \\\n",
       "0  Scarborough                                  Rouge,Malvern  43.806686   \n",
       "1  Scarborough           Highland Creek,Rouge Hill,Port Union  43.784535   \n",
       "2  Scarborough                Guildwood,Morningside,West Hill  43.763573   \n",
       "3  Scarborough                                         Woburn  43.770992   \n",
       "4  Scarborough                                      Cedarbrae  43.773136   \n",
       "5  Scarborough                            Scarborough Village  43.744734   \n",
       "6  Scarborough      East Birchmount Park,Ionview,Kennedy Park  43.727929   \n",
       "7  Scarborough                  Clairlea,Golden Mile,Oakridge  43.711112   \n",
       "8  Scarborough  Cliffcrest,Cliffside,Scarborough Village West  43.716316   \n",
       "9  Scarborough                     Birch Cliff,Cliffside West  43.692657   \n",
       "\n",
       "   Longitude  \n",
       "0 -79.194353  \n",
       "1 -79.160497  \n",
       "2 -79.188711  \n",
       "3 -79.216917  \n",
       "4 -79.239476  \n",
       "5 -79.239476  \n",
       "6 -79.262029  \n",
       "7 -79.284577  \n",
       "8 -79.239476  \n",
       "9 -79.264848  "
      ]
     },
     "execution_count": 37,
     "metadata": {},
     "output_type": "execute_result"
    }
   ],
   "source": [
    "df_neighbourhood.head(10)"
   ]
  },
  {
   "cell_type": "code",
   "execution_count": 38,
   "metadata": {},
   "outputs": [
    {
     "data": {
      "text/plain": [
       "(103, 4)"
      ]
     },
     "execution_count": 38,
     "metadata": {},
     "output_type": "execute_result"
    }
   ],
   "source": [
    "df_neighbourhood.shape"
   ]
  },
  {
   "cell_type": "markdown",
   "metadata": {},
   "source": [
    "## Getting Latitude and Longitude for Toronto, Canada."
   ]
  },
  {
   "cell_type": "code",
   "execution_count": 41,
   "metadata": {},
   "outputs": [
    {
     "name": "stderr",
     "output_type": "stream",
     "text": [
      "C:\\Users\\Nishant\\Anaconda3\\lib\\site-packages\\ipykernel_launcher.py:3: DeprecationWarning: Using Nominatim with the default \"geopy/1.20.0\" `user_agent` is strongly discouraged, as it violates Nominatim's ToS https://operations.osmfoundation.org/policies/nominatim/ and may possibly cause 403 and 429 HTTP errors. Please specify a custom `user_agent` with `Nominatim(user_agent=\"my-application\")` or by overriding the default `user_agent`: `geopy.geocoders.options.default_user_agent = \"my-application\"`. In geopy 2.0 this will become an exception.\n",
      "  This is separate from the ipykernel package so we can avoid doing imports until\n"
     ]
    },
    {
     "name": "stdout",
     "output_type": "stream",
     "text": [
      "The geograpical coordinate of Toronto are 43.653963, -79.387207.\n"
     ]
    }
   ],
   "source": [
    "address = 'Toronto, Canada'\n",
    "\n",
    "geolocator = Nominatim()\n",
    "location = geolocator.geocode(address)\n",
    "latitude = location.latitude\n",
    "longitude = location.longitude\n",
    "print('The geograpical coordinate of Toronto are {}, {}.'.format(latitude, longitude))"
   ]
  },
  {
   "cell_type": "markdown",
   "metadata": {},
   "source": [
    "## Ploting in map with cluster"
   ]
  },
  {
   "cell_type": "code",
   "execution_count": 44,
   "metadata": {},
   "outputs": [
    {
     "data": {
      "text/html": [
       "<div style=\"width:100%;\"><div style=\"position:relative;width:100%;height:0;padding-bottom:60%;\"><iframe src=\"data:text/html;charset=utf-8;base64,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\" style=\"position:absolute;width:100%;height:100%;left:0;top:0;border:none !important;\" allowfullscreen webkitallowfullscreen mozallowfullscreen></iframe></div></div>"
      ],
      "text/plain": [
       "<folium.folium.Map at 0x1fb7e4ea9e8>"
      ]
     },
     "execution_count": 44,
     "metadata": {},
     "output_type": "execute_result"
    }
   ],
   "source": [
    "map_toronto = folium.Map(location = [latitude, longitude], zoom_start = 10)\n",
    "\n",
    "for lat, lng, borough, neighborhood in zip(df_neighbourhood['Latitude'], df_neighbourhood['Longitude'], df_neighbourhood['Borough'], df_neighbourhood['Neighbourhood']):\n",
    "    label = '{}, {}'.format(neighborhood, borough)\n",
    "    label = folium.Popup(label, parse_html=True)\n",
    "    folium.CircleMarker(\n",
    "        [lat, lng],\n",
    "        radius=5,\n",
    "        popup=label,\n",
    "        color='blue',\n",
    "        fill=True,\n",
    "        fill_color='#3186cc',\n",
    "        fill_opacity=0.7,\n",
    "        parse_html=False).add_to(map_toronto)  \n",
    "    \n",
    "map_toronto"
   ]
  },
  {
   "cell_type": "code",
   "execution_count": null,
   "metadata": {},
   "outputs": [],
   "source": []
  }
 ],
 "metadata": {
  "kernelspec": {
   "display_name": "Python 3",
   "language": "python",
   "name": "python3"
  },
  "language_info": {
   "codemirror_mode": {
    "name": "ipython",
    "version": 3
   },
   "file_extension": ".py",
   "mimetype": "text/x-python",
   "name": "python",
   "nbconvert_exporter": "python",
   "pygments_lexer": "ipython3",
   "version": "3.7.3"
  }
 },
 "nbformat": 4,
 "nbformat_minor": 2
}
